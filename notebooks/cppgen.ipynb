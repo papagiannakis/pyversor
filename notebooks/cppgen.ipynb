{
 "cells": [
  {
   "cell_type": "code",
   "execution_count": 536,
   "metadata": {},
   "outputs": [],
   "source": [
    "import pybind11\n",
    "import os\n",
    "import tempfile\n",
    "from uuid import uuid4\n",
    "import sys\n",
    "import setuptools\n",
    "import importlib\n",
    "from string import Template\n",
    "import subprocess\n",
    "import numpy as np"
   ]
  },
  {
   "cell_type": "code",
   "execution_count": 406,
   "metadata": {},
   "outputs": [],
   "source": [
    "from IPython.core.magic import register_cell_magic, register_line_cell_magic"
   ]
  },
  {
   "cell_type": "code",
   "execution_count": 471,
   "metadata": {},
   "outputs": [],
   "source": [
    "@register_line_cell_magic\n",
    "def versor(line, cell=None):\n",
    "    if cell is not None:\n",
    "        function_impl = cell\n",
    "        function, function_name = compile_(function_impl)\n",
    "        globals()[function_name] = function\n",
    "    else:\n",
    "        function_impl = Template('auto f() {return $body;}').substitute(body=line)\n",
    "        function, _ = compile_(function_impl)\n",
    "        return function()"
   ]
  },
  {
   "cell_type": "code",
   "execution_count": 515,
   "metadata": {},
   "outputs": [],
   "source": [
    "@register_cell_magic\n",
    "def cpp(line, cell=None):\n",
    "    print(line)\n",
    "    print(cell)"
   ]
  },
  {
   "cell_type": "code",
   "execution_count": 516,
   "metadata": {},
   "outputs": [
    {
     "name": "stdout",
     "output_type": "stream",
     "text": [
      "fff\n",
      "kfkfkf\n"
     ]
    }
   ],
   "source": [
    "%%cpp\n",
    "kfkfkf"
   ]
  },
  {
   "cell_type": "code",
   "execution_count": 477,
   "metadata": {},
   "outputs": [
    {
     "name": "stdout",
     "output_type": "stream",
     "text": [
      "auto f() {return (Vec(1,2,3).null() <= Vec(1,3,8,7,3).null())[0];}\n",
      "-13.0\n"
     ]
    }
   ],
   "source": [
    "result = %versor (Vec(1,2,3).null() <= Vec(1,3,8,7,3).null())[0]\n",
    "print(result)"
   ]
  },
  {
   "cell_type": "code",
   "execution_count": 457,
   "metadata": {},
   "outputs": [
    {
     "name": "stdout",
     "output_type": "stream",
     "text": [
      "pyversor::c3d::multivector_t f() {\n",
      "    return pyversor::c3d::vector_t(1.,0909.,3.).null();\n",
      "}\n"
     ]
    }
   ],
   "source": [
    "%%versor \n",
    "pyversor::c3d::multivector_t f() {\n",
    "    return pyversor::c3d::vector_t(1.,0909.,3.).null();\n",
    "}"
   ]
  },
  {
   "cell_type": "code",
   "execution_count": null,
   "metadata": {},
   "outputs": [],
   "source": []
  },
  {
   "cell_type": "code",
   "execution_count": 458,
   "metadata": {},
   "outputs": [
    {
     "data": {
      "text/plain": [
       "Multivector [ 0 1 909 3 1 4.131e+05 0 0 0 0 0 0 0 0 0 0 0 0 0 0 0 0 0 0 0 0 0 0 0 0 0 0]"
      ]
     },
     "execution_count": 458,
     "metadata": {},
     "output_type": "execute_result"
    }
   ],
   "source": [
    "f()"
   ]
  },
  {
   "cell_type": "code",
   "execution_count": 556,
   "metadata": {},
   "outputs": [],
   "source": [
    "def generate_source(module_name, function_name, function_impl):\n",
    "    return Template(\"\"\"\n",
    "#include <pybind11/pybind11.h>\n",
    "#include <pyversor/pyversor.h>\n",
    "\n",
    "using Multivector = pyversor::c3d::multivector_t;\n",
    "using Vec = pyversor::c3d::vector_t;\n",
    "using Biv = pyversor::c3d::bivector_t;\n",
    "using Vec3 = pyversor::ega::vector_t;\n",
    "using Rot = pyversor::ega::rotator_t;\n",
    "\n",
    "namespace py = pybind11;\n",
    "\n",
    "$function_impl\n",
    "\n",
    "PYBIND11_MODULE($module_name, m) {\n",
    "\n",
    "    m.def(\"$function_name\", &$function_name);\n",
    "\n",
    "}\n",
    "\"\"\").substitute(module_name=module_name,\n",
    "                function_name=function_name,\n",
    "                function_impl=function_impl)"
   ]
  },
  {
   "cell_type": "code",
   "execution_count": 529,
   "metadata": {},
   "outputs": [],
   "source": [
    "%%versor -f\n",
    "auto g() -> Multivector {\n",
    "    auto R = Rot(1,2,3,4);\n",
    "    auto a = Vec3(1,2,3);\n",
    "    return R * a * ~R;\n",
    "}"
   ]
  },
  {
   "cell_type": "code",
   "execution_count": 541,
   "metadata": {},
   "outputs": [],
   "source": [
    "%%versor\n",
    "auto h() -> Multivector {\n",
    "    auto R = Rot(1,2,3,4);\n",
    "    auto a = Vec3(1,2,3);\n",
    "    return a.spin(R);\n",
    "}"
   ]
  },
  {
   "cell_type": "code",
   "execution_count": 564,
   "metadata": {},
   "outputs": [
    {
     "name": "stdout",
     "output_type": "stream",
     "text": [
      "563 ns ± 5.42 ns per loop (mean ± std. dev. of 7 runs, 1000000 loops each)\n"
     ]
    },
    {
     "data": {
      "text/plain": [
       "<TimeitResult : 563 ns ± 5.42 ns per loop (mean ± std. dev. of 7 runs, 1000000 loops each)>"
      ]
     },
     "execution_count": 564,
     "metadata": {},
     "output_type": "execute_result"
    }
   ],
   "source": [
    "%timeit -o h()"
   ]
  },
  {
   "cell_type": "code",
   "execution_count": 545,
   "metadata": {},
   "outputs": [
    {
     "name": "stdout",
     "output_type": "stream",
     "text": [
      "554 ns ± 2.7 ns per loop (mean ± std. dev. of 7 runs, 1000000 loops each)\n"
     ]
    }
   ],
   "source": [
    "%timeit g()"
   ]
  },
  {
   "cell_type": "code",
   "execution_count": 546,
   "metadata": {},
   "outputs": [],
   "source": [
    "R = np.eye(3)\n",
    "a = np.random.randn(3,1)"
   ]
  },
  {
   "cell_type": "code",
   "execution_count": 547,
   "metadata": {},
   "outputs": [
    {
     "name": "stdout",
     "output_type": "stream",
     "text": [
      "470 ns ± 5.52 ns per loop (mean ± std. dev. of 7 runs, 1000000 loops each)\n"
     ]
    }
   ],
   "source": [
    "%timeit R.dot(a)"
   ]
  },
  {
   "cell_type": "code",
   "execution_count": 548,
   "metadata": {},
   "outputs": [
    {
     "data": {
      "text/plain": [
       "Multivector [ 0 30 -60 -90 0 0 0 0 0 0 0 0 0 0 0 0 0 0 0 0 0 0 0 0 0 0 0 0 0 0 0 0]"
      ]
     },
     "execution_count": 548,
     "metadata": {},
     "output_type": "execute_result"
    }
   ],
   "source": [
    "g()"
   ]
  },
  {
   "cell_type": "code",
   "execution_count": 549,
   "metadata": {},
   "outputs": [],
   "source": [
    "def c(a):\n",
    "    print(a)"
   ]
  },
  {
   "cell_type": "code",
   "execution_count": 552,
   "metadata": {},
   "outputs": [],
   "source": [
    "import pyversor"
   ]
  },
  {
   "cell_type": "code",
   "execution_count": 562,
   "metadata": {},
   "outputs": [
    {
     "name": "stdout",
     "output_type": "stream",
     "text": [
      "NotImplemented\n"
     ]
    }
   ],
   "source": [
    "s = pyversor.c3d.Vector.__dict__\n",
    "print(s['__mul__']())"
   ]
  },
  {
   "cell_type": "code",
   "execution_count": 555,
   "metadata": {},
   "outputs": [],
   "source": [
    "%%versor \n",
    "auto mul(const Vec& v, const B& b) {\n",
    "    return v * b;\n",
    "}"
   ]
  },
  {
   "cell_type": "code",
   "execution_count": null,
   "metadata": {},
   "outputs": [],
   "source": [
    "a = pyversor.c3d."
   ]
  },
  {
   "cell_type": "code",
   "execution_count": 527,
   "metadata": {},
   "outputs": [],
   "source": [
    "cmakelists_template = Template(r\"\"\"\n",
    "cmake_minimum_required(VERSION 3.2)\n",
    "project($name LANGUAGES CXX)\n",
    "\n",
    "set(CMAKE_CXX_FLAGS \"$${CMAKE_CXX_FLAGS} -std=c++14 -O3 -ftemplate-depth=1200\")\n",
    "\n",
    "find_package(pybind11)\n",
    "\n",
    "pybind11_add_module($name $name.cpp)\n",
    "\n",
    "\"\"\")"
   ]
  },
  {
   "cell_type": "code",
   "execution_count": 373,
   "metadata": {},
   "outputs": [],
   "source": [
    "python_includes = subprocess.check_output(['python',\n",
    "                                           '-m', 'pybind11', '--includes']).decode('utf-8').split()\n",
    "extension_suffix = subprocess.check_output(['python-config', \n",
    "                                            '--extension-suffix']).decode('utf-8').replace('\\n','')"
   ]
  },
  {
   "cell_type": "code",
   "execution_count": 522,
   "metadata": {},
   "outputs": [],
   "source": [
    "def compile_(function_impl):\n",
    "    \n",
    "#     print(function_impl)\n",
    "    \n",
    "    # Extract function name from implementation\n",
    "    l = function_impl.splitlines()[0]\n",
    "    function_name = l[l.find(' ')+1:l.find('(')]\n",
    "    # Generate uuid\n",
    "    uuid = str(uuid4().hex[:4])\n",
    "    # Generate unique module name\n",
    "    module_name = \"pyversor_{}_{}\".format(function_name, uuid)\n",
    "    \n",
    "#     tempdir = tempfile.mkdtemp()\n",
    "#     print(tempdir)\n",
    "    with tempfile.TemporaryDirectory() as tempdir:\n",
    "        source_cpp = module_name + '.cpp'\n",
    "        source_path = os.path.join(tempdir, source_cpp)\n",
    "        with open(source_path, 'w') as f:\n",
    "            f.write(generate_source(module_name, function_name, function_impl))\n",
    "\n",
    "        build_command = ['clang++', '-shared', '-std=c++14', '-fPIC', '-ftemplate-depth=1200']\n",
    "        build_command += ['-O3']\n",
    "#         build_command += ['-ffast-math']\n",
    "        build_command += python_includes\n",
    "        build_command += ['-I/home/lars/devel/pyversor/include']\n",
    "        build_command += [source_cpp]\n",
    "        build_command += ['-o', module_name + extension_suffix]\n",
    "\n",
    "    #     print(' '.join(build_command))\n",
    "\n",
    "        build_output = subprocess.check_output(build_command, cwd=tempdir)\n",
    "\n",
    "        # Load compiled module\n",
    "        spec = importlib.util.spec_from_file_location(\n",
    "            module_name, os.path.join(tempdir, module_name+extension_suffix))\n",
    "        m = importlib.util.module_from_spec(spec)\n",
    "        spec.loader.exec_module(m)\n",
    "        # register in global namespace\n",
    "        function = m.__dict__[function_name]\n",
    "        return function, function_name\n"
   ]
  }
 ],
 "metadata": {
  "kernelspec": {
   "display_name": "Python 3",
   "language": "python",
   "name": "python3"
  },
  "language_info": {
   "codemirror_mode": {
    "name": "ipython",
    "version": 3
   },
   "file_extension": ".py",
   "mimetype": "text/x-python",
   "name": "python",
   "nbconvert_exporter": "python",
   "pygments_lexer": "ipython3",
   "version": "3.6.2"
  }
 },
 "nbformat": 4,
 "nbformat_minor": 2
}
