{
 "cells": [
  {
   "cell_type": "code",
   "execution_count": 1,
   "metadata": {},
   "outputs": [],
   "source": [
    "import os\n",
    "from string import Template\n",
    "import subprocess"
   ]
  },
  {
   "cell_type": "code",
   "execution_count": 2,
   "metadata": {},
   "outputs": [
    {
     "name": "stdout",
     "output_type": "stream",
     "text": [
      "/home/lars/devel/pyversor\n"
     ]
    }
   ],
   "source": [
    "print(os.getcwd())"
   ]
  },
  {
   "cell_type": "code",
   "execution_count": 3,
   "metadata": {},
   "outputs": [],
   "source": [
    "algebra_name = 'g312'"
   ]
  },
  {
   "cell_type": "code",
   "execution_count": 4,
   "metadata": {},
   "outputs": [],
   "source": [
    "def cmakeliststxt(algebra_name):\n",
    "    cmakelists = Template('''\n",
    "cmake_minimum_required(VERSION 3.2)\n",
    "project($algebra_name LANGUAGES CXX)\n",
    "\n",
    "set(CMAKE_EXPORT_COMPILE_COMMANDS ON)\n",
    "\n",
    "set(CMAKE_CXX_FLAGS \"$${CMAKE_CXX_FLAGS} -std=c++14 -O3 -ftemplate-depth=2048 -fconstexpr-depth=2048\")\n",
    "\n",
    "include_directories(\n",
    "  ../include\n",
    "  ../include/versor\n",
    "  ../include/versor/space\n",
    "  ../include/versor/util\n",
    "  )\n",
    "\n",
    "find_package(pybind11)\n",
    "\n",
    "pybind11_add_module($algebra_name\n",
    "  $algebra_name.cpp\n",
    ")                    \n",
    "''')\n",
    "    return cmakelists.substitute(algebra_name=algebra_name)"
   ]
  },
  {
   "cell_type": "code",
   "execution_count": 5,
   "metadata": {},
   "outputs": [],
   "source": [
    "def gacpp(algebra_name, p, q=0, is_conformal=False):\n",
    "    \n",
    "    n_blades = 2**(p+q)\n",
    "    \n",
    "    ga_t = Template('vsr::algebra<vsr::metric<$p, $q, $is_conformal>, double>;')\n",
    "    if is_conformal:\n",
    "        ga_t = ga_t.substitute(p=p, q=q, is_conformal='true')\n",
    "    else:\n",
    "        ga_t = ga_t.substitute(p=p, q=q, is_conformal='false')\n",
    "        \n",
    "        \n",
    "    mv_t = Template('''decltype(vsr::Multivector<ga_t, vsr::Basis<$blades>>() *\n",
    "                      vsr::Multivector<ga_t, vsr::Basis<$blades>>());\n",
    "''')\n",
    "    mv_t = mv_t.substitute(blades=str([i for i in range(n_blades)]).replace('[','').replace(']',''))\n",
    "    \n",
    "    constructor = 'double, ' * n_blades\n",
    "    constructor = constructor[:-2]\n",
    "    \n",
    "    \n",
    "    cpp = Template('''\n",
    "#include \"pyversor/pyversor.h\"\n",
    "\n",
    "namespace py = pybind11;\n",
    "\n",
    "using ga_t = $ga_t\n",
    "using mv_t = $mv_t\n",
    "\n",
    "PYBIND11_MODULE($algebra_name, m) {\n",
    "\n",
    "  auto t = pyversor::def_multivector<mv_t>(m, \"Multivector\");\n",
    "  t.def(py::init<$constructor>());\n",
    "  pyversor::def_geometric_product<mv_t, mv_t>(t);\n",
    "\n",
    "}\n",
    "''')\n",
    "    \n",
    "    return cpp.substitute(algebra_name=algebra_name, ga_t=ga_t, mv_t=mv_t, constructor=constructor)"
   ]
  },
  {
   "cell_type": "code",
   "execution_count": 6,
   "metadata": {},
   "outputs": [],
   "source": [
    "if not os.path.exists(algebra_name):\n",
    "    os.mkdir(algebra_name)\n",
    "    os.chdir(algebra_name)\n",
    "    os.mkdir('build')"
   ]
  },
  {
   "cell_type": "code",
   "execution_count": 7,
   "metadata": {},
   "outputs": [],
   "source": [
    "with open(algebra_name + '.cpp', 'w') as f:\n",
    "    f.write(gacpp(algebra_name, 3,1, True))\n",
    "    \n",
    "with open('CMakeLists.txt', 'w') as f:\n",
    "    f.write(cmakeliststxt(algebra_name))"
   ]
  },
  {
   "cell_type": "code",
   "execution_count": 8,
   "metadata": {},
   "outputs": [],
   "source": [
    "os.chdir('build')"
   ]
  },
  {
   "cell_type": "code",
   "execution_count": null,
   "metadata": {},
   "outputs": [],
   "source": []
  },
  {
   "cell_type": "code",
   "execution_count": 9,
   "metadata": {},
   "outputs": [
    {
     "name": "stdout",
     "output_type": "stream",
     "text": [
      "/home/lars/devel/pyversor/g312/build\n"
     ]
    }
   ],
   "source": [
    "print(os.getcwd())"
   ]
  },
  {
   "cell_type": "code",
   "execution_count": 10,
   "metadata": {},
   "outputs": [
    {
     "data": {
      "text/plain": [
       "0"
      ]
     },
     "execution_count": 10,
     "metadata": {},
     "output_type": "execute_result"
    }
   ],
   "source": [
    "subprocess.check_call(['cmake', '-GNinja', '..'])"
   ]
  },
  {
   "cell_type": "code",
   "execution_count": 11,
   "metadata": {},
   "outputs": [
    {
     "data": {
      "text/plain": [
       "0"
      ]
     },
     "execution_count": 11,
     "metadata": {},
     "output_type": "execute_result"
    }
   ],
   "source": [
    "subprocess.check_call(['cmake', '--build', '.'])"
   ]
  },
  {
   "cell_type": "code",
   "execution_count": null,
   "metadata": {},
   "outputs": [],
   "source": []
  }
 ],
 "metadata": {
  "kernelspec": {
   "display_name": "Python 3",
   "language": "python",
   "name": "python3"
  },
  "language_info": {
   "codemirror_mode": {
    "name": "ipython",
    "version": 3
   },
   "file_extension": ".py",
   "mimetype": "text/x-python",
   "name": "python",
   "nbconvert_exporter": "python",
   "pygments_lexer": "ipython3",
   "version": "3.6.2"
  }
 },
 "nbformat": 4,
 "nbformat_minor": 2
}
